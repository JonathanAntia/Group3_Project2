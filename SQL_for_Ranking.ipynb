{
 "cells": [
  {
   "cell_type": "markdown",
   "metadata": {},
   "source": [
    "# Retrieve data from PostGres to rank neighborhoods\n"
   ]
  },
  {
   "cell_type": "markdown",
   "metadata": {},
   "source": [
    "# Import Dependencies"
   ]
  },
  {
   "cell_type": "code",
   "execution_count": null,
   "metadata": {},
   "outputs": [],
   "source": [
    "# Python SQL toolkit and Object Relational Mapper\n",
    "import sqlalchemy\n",
    "from sqlalchemy.ext.automap import automap_base\n",
    "from sqlalchemy.orm import Session\n",
    "from sqlalchemy import create_engine, func, inspect,join\n",
    "from key import url\n",
    "import numpy as np\n",
    "import pandas as pd"
   ]
  },
  {
   "cell_type": "markdown",
   "metadata": {},
   "source": [
    "# Connect to PostgreSQL"
   ]
  },
  {
   "cell_type": "code",
   "execution_count": null,
   "metadata": {},
   "outputs": [],
   "source": [
    "#Create the engine\n",
    "engine = create_engine(url)"
   ]
  },
  {
   "cell_type": "code",
   "execution_count": null,
   "metadata": {},
   "outputs": [],
   "source": [
    "# reflect an existing database into a new model\n",
    "Base = automap_base()"
   ]
  },
  {
   "cell_type": "code",
   "execution_count": null,
   "metadata": {},
   "outputs": [],
   "source": [
    "# reflect the tables\n",
    "Base.prepare(engine, reflect=True)"
   ]
  },
  {
   "cell_type": "code",
   "execution_count": null,
   "metadata": {},
   "outputs": [],
   "source": [
    "session=Session(engine)"
   ]
  },
  {
   "cell_type": "code",
   "execution_count": null,
   "metadata": {},
   "outputs": [],
   "source": [
    "budget=100000"
   ]
  },
  {
   "cell_type": "markdown",
   "metadata": {},
   "source": [
    "# Using Pandas for Data Analysis"
   ]
  },
  {
   "cell_type": "code",
   "execution_count": null,
   "metadata": {},
   "outputs": [],
   "source": [
    "#  Read the appraisal Table\n",
    "appraisal=pd.read_sql_table('appraisal',engine)\n",
    "appraisal.info()"
   ]
  },
  {
   "cell_type": "code",
   "execution_count": null,
   "metadata": {},
   "outputs": [],
   "source": [
    "# Calculate % of change of value between 2018 and 2019\n",
    "appraisal_2018=appraisal.loc[appraisal.tax_year==2018,:]\n",
    "appraisal_2019=appraisal.loc[appraisal.tax_year==2019,:]"
   ]
  },
  {
   "cell_type": "code",
   "execution_count": null,
   "metadata": {},
   "outputs": [],
   "source": [
    "appraisal_2019.info()"
   ]
  },
  {
   "cell_type": "code",
   "execution_count": null,
   "metadata": {},
   "outputs": [],
   "source": [
    "appraisal_df=pd.merge(appraisal_2019,appraisal_2018,on='account', suffixes=('_2019','_2018'))\n",
    "appraisal_df.info()"
   ]
  },
  {
   "cell_type": "code",
   "execution_count": null,
   "metadata": {},
   "outputs": [],
   "source": [
    "appraisal_df['pct_value_change']=(appraisal_df['total_appraised_value_2019']-appraisal_df['total_appraised_value_2018'])\\\n",
    "                                  /appraisal_df['total_appraised_value_2018']*100\n",
    "appraisal_df.info()"
   ]
  },
  {
   "cell_type": "code",
   "execution_count": null,
   "metadata": {},
   "outputs": [],
   "source": [
    "results_df=appraisal_df[['id_2019','account','total_appraised_value_2019', 'pct_value_change']]\n",
    "results_df.head(10)"
   ]
  },
  {
   "cell_type": "code",
   "execution_count": null,
   "metadata": {},
   "outputs": [],
   "source": [
    "#Read properties table\n",
    "properties_df=pd.read_sql_table('properties',engine)\n",
    "properties_df.info()"
   ]
  },
  {
   "cell_type": "code",
   "execution_count": null,
   "metadata": {},
   "outputs": [],
   "source": [
    "results_df=pd.merge(results_df,properties_df,on=\"account\")\n",
    "results_df.head()"
   ]
  },
  {
   "cell_type": "code",
   "execution_count": null,
   "metadata": {},
   "outputs": [],
   "source": [
    "del results_df['address']"
   ]
  },
  {
   "cell_type": "code",
   "execution_count": null,
   "metadata": {},
   "outputs": [],
   "source": [
    "results_df.head()"
   ]
  },
  {
   "cell_type": "code",
   "execution_count": null,
   "metadata": {},
   "outputs": [],
   "source": [
    "results_df.info()"
   ]
  },
  {
   "cell_type": "code",
   "execution_count": null,
   "metadata": {},
   "outputs": [],
   "source": [
    "#Read crime table and merge to results\n",
    "crime_df=pd.read_sql_table('crime',engine)\n",
    "crime_df=crime_df.rename(columns={'Zip_Code':'Zip_code'})\n",
    "crime_df.head()"
   ]
  },
  {
   "cell_type": "code",
   "execution_count": null,
   "metadata": {},
   "outputs": [],
   "source": [
    "crime_aggr=crime_df.groupby(['Zip_code']).count()['Offense_Count']\n",
    "crime_aggr_df=pd.DataFrame(crime_aggr)\n",
    "crime_aggr_df.head()"
   ]
  },
  {
   "cell_type": "code",
   "execution_count": null,
   "metadata": {},
   "outputs": [],
   "source": [
    "results_df=pd.merge(results_df,crime_aggr_df,on=\"Zip_code\")\n",
    "results_df.head()"
   ]
  },
  {
   "cell_type": "code",
   "execution_count": null,
   "metadata": {},
   "outputs": [],
   "source": [
    "results_df.info()"
   ]
  },
  {
   "cell_type": "code",
   "execution_count": null,
   "metadata": {},
   "outputs": [],
   "source": [
    "#Read property_school table and merge to results\n",
    "property_school_df=pd.read_sql_table('property_school',engine)\n",
    "property_school_df.head()"
   ]
  },
  {
   "cell_type": "code",
   "execution_count": null,
   "metadata": {},
   "outputs": [],
   "source": [
    "property_school_df.info()"
   ]
  },
  {
   "cell_type": "code",
   "execution_count": null,
   "metadata": {},
   "outputs": [],
   "source": [
    "results_df=pd.merge(results_df,property_school_df,on=\"account\")\n",
    "results_df.head()"
   ]
  },
  {
   "cell_type": "code",
   "execution_count": null,
   "metadata": {},
   "outputs": [],
   "source": [
    "results_df.info()"
   ]
  },
  {
   "cell_type": "code",
   "execution_count": null,
   "metadata": {},
   "outputs": [],
   "source": [
    "#Read school table and merge to results\n",
    "school_df=pd.read_sql_table('school',engine)\n",
    "school_df.head()"
   ]
  },
  {
   "cell_type": "code",
   "execution_count": null,
   "metadata": {},
   "outputs": [],
   "source": [
    "school_df.info()"
   ]
  },
  {
   "cell_type": "code",
   "execution_count": null,
   "metadata": {},
   "outputs": [],
   "source": [
    "results_df=pd.merge(results_df,school_df,on=['school_id','school_type'])\n",
    "results_df.head()"
   ]
  },
  {
   "cell_type": "code",
   "execution_count": null,
   "metadata": {},
   "outputs": [],
   "source": [
    "results_df.info()"
   ]
  },
  {
   "cell_type": "code",
   "execution_count": null,
   "metadata": {},
   "outputs": [],
   "source": [
    "#Add flood ranking\n",
    "#3- High Risk\n",
    "#2 - Medium Risk\n",
    "#1- Low Risk\n",
    "\n",
    "results_df['flood_risk']=np.where(results_df['flood_description']=='AREA OF MINIMAL FLOOD HAZARD',1,3)\n",
    "results_df.loc[(results_df['flood_description']=='0.2 PCT ANNUAL CHANCE FLOOD HAZARD'),'flood_risk']=2\n",
    "results_df.loc[(results_df['flood_description']=='FLOODWAY'),'flood_risk']=3\n",
    "results_df.head(50)"
   ]
  },
  {
   "cell_type": "code",
   "execution_count": null,
   "metadata": {},
   "outputs": [],
   "source": [
    "del results_df['flood_description']\n",
    "del results_df['name']\n",
    "del results_df['address']\n",
    "del results_df['city']\n",
    "del results_df['zip_code']\n",
    "del results_df['district_id']\n",
    "del results_df['latitude_y']\n",
    "del results_df['longitude_y']"
   ]
  },
  {
   "cell_type": "code",
   "execution_count": null,
   "metadata": {},
   "outputs": [],
   "source": [
    "results_df=results_df.rename(columns={'latitude_x':'latitude', 'longitude_x':'longitude'})\n",
    "results_df.head()"
   ]
  },
  {
   "cell_type": "code",
   "execution_count": null,
   "metadata": {},
   "outputs": [],
   "source": [
    "results_df.info()"
   ]
  },
  {
   "cell_type": "code",
   "execution_count": null,
   "metadata": {},
   "outputs": [],
   "source": [
    "# Count sales in 2019\n",
    "results_df['sales2019']=np.where(results_df['new_owner_date']>'2018-12-31',1,0)"
   ]
  },
  {
   "cell_type": "code",
   "execution_count": null,
   "metadata": {},
   "outputs": [],
   "source": [
    "results_df.sample(10)"
   ]
  },
  {
   "cell_type": "code",
   "execution_count": null,
   "metadata": {},
   "outputs": [],
   "source": [
    "sales=results_df.groupby('neighborhood_code')['sales2019'].sum()"
   ]
  },
  {
   "cell_type": "code",
   "execution_count": null,
   "metadata": {},
   "outputs": [],
   "source": [
    "sales=pd.DataFrame(sales)\n",
    "sales=sales.rename(columns={'sales2019':'sales_neighborhood_2019'})\n",
    "sales.head(10)"
   ]
  },
  {
   "cell_type": "code",
   "execution_count": null,
   "metadata": {},
   "outputs": [],
   "source": [
    "results_df=pd.merge(results_df,sales, on=\"neighborhood_code\")"
   ]
  },
  {
   "cell_type": "code",
   "execution_count": null,
   "metadata": {},
   "outputs": [],
   "source": [
    "results_df.info()"
   ]
  },
  {
   "cell_type": "code",
   "execution_count": null,
   "metadata": {},
   "outputs": [],
   "source": [
    "del results_df['sales2019']\n"
   ]
  },
  {
   "cell_type": "code",
   "execution_count": null,
   "metadata": {},
   "outputs": [],
   "source": [
    "results_df.info()"
   ]
  },
  {
   "cell_type": "code",
   "execution_count": null,
   "metadata": {},
   "outputs": [],
   "source": [
    "#  Read the neighborhoods Table\n",
    "neighborhoods_df=pd.read_sql_table('neighborhoods',engine)\n",
    "neighborhoods_df.info()"
   ]
  },
  {
   "cell_type": "code",
   "execution_count": null,
   "metadata": {},
   "outputs": [],
   "source": [
    "results_df=pd.merge(results_df,neighborhoods_df,on='neighborhood_code')\n",
    "results_df.head()"
   ]
  },
  {
   "cell_type": "code",
   "execution_count": null,
   "metadata": {},
   "outputs": [],
   "source": [
    "results_df.info()"
   ]
  },
  {
   "cell_type": "code",
   "execution_count": null,
   "metadata": {},
   "outputs": [],
   "source": [
    "# Filter by budget on year 2019\n",
    "results_df=results_df.loc[results_df.total_appraised_value_2019<=budget,:]\n",
    "results_df.info()"
   ]
  },
  {
   "cell_type": "code",
   "execution_count": 3,
   "metadata": {},
   "outputs": [
    {
     "name": "stdout",
     "output_type": "stream",
     "text": [
      "<class 'pandas.core.frame.DataFrame'>\n",
      "Int64Index: 44655 entries, 0 to 57380\n",
      "Data columns (total 18 columns):\n",
      " #   Column                      Non-Null Count  Dtype         \n",
      "---  ------                      --------------  -----         \n",
      " 0   id_2019                     44655 non-null  int64         \n",
      " 1   account                     44655 non-null  int64         \n",
      " 2   total_appraised_value_2019  44655 non-null  float64       \n",
      " 3   pct_value_change            44655 non-null  float64       \n",
      " 4   latitude                    44655 non-null  float64       \n",
      " 5   longitude                   44655 non-null  float64       \n",
      " 6   Zip_code                    44655 non-null  int64         \n",
      " 7   neighborhood_code           44655 non-null  float64       \n",
      " 8   acreage                     44655 non-null  float64       \n",
      " 9   new_owner_date              44652 non-null  datetime64[ns]\n",
      " 10  sq_ft                       44646 non-null  float64       \n",
      " 11  Offense_Count               44655 non-null  int64         \n",
      " 12  school_id                   44655 non-null  int64         \n",
      " 13  school_type                 44655 non-null  object        \n",
      " 14  school_rating               44655 non-null  int64         \n",
      " 15  flood_risk                  44655 non-null  int32         \n",
      " 16  sales_neighborhood_2019     44655 non-null  int32         \n",
      " 17  neighborhood                44655 non-null  object        \n",
      "dtypes: datetime64[ns](1), float64(7), int32(2), int64(6), object(2)\n",
      "memory usage: 6.1+ MB\n",
      "computation completed\n"
     ]
    },
    {
     "data": {
      "text/html": [
       "<div>\n",
       "<style scoped>\n",
       "    .dataframe tbody tr th:only-of-type {\n",
       "        vertical-align: middle;\n",
       "    }\n",
       "\n",
       "    .dataframe tbody tr th {\n",
       "        vertical-align: top;\n",
       "    }\n",
       "\n",
       "    .dataframe thead th {\n",
       "        text-align: right;\n",
       "    }\n",
       "</style>\n",
       "<table border=\"1\" class=\"dataframe\">\n",
       "  <thead>\n",
       "    <tr style=\"text-align: right;\">\n",
       "      <th></th>\n",
       "      <th>id_2019</th>\n",
       "      <th>account</th>\n",
       "      <th>total_appraised_value_2019</th>\n",
       "      <th>pct_value_change</th>\n",
       "      <th>latitude</th>\n",
       "      <th>longitude</th>\n",
       "      <th>Zip_code</th>\n",
       "      <th>neighborhood_code</th>\n",
       "      <th>acreage</th>\n",
       "      <th>new_owner_date</th>\n",
       "      <th>sq_ft</th>\n",
       "      <th>Offense_Count</th>\n",
       "      <th>school_id</th>\n",
       "      <th>school_type</th>\n",
       "      <th>school_rating</th>\n",
       "      <th>flood_risk</th>\n",
       "      <th>sales_neighborhood_2019</th>\n",
       "      <th>neighborhood</th>\n",
       "    </tr>\n",
       "  </thead>\n",
       "  <tbody>\n",
       "    <tr>\n",
       "      <th>0</th>\n",
       "      <td>1</td>\n",
       "      <td>21750000003</td>\n",
       "      <td>299000.0</td>\n",
       "      <td>0.000000</td>\n",
       "      <td>29.74614</td>\n",
       "      <td>-95.36987</td>\n",
       "      <td>77002</td>\n",
       "      <td>8400.07</td>\n",
       "      <td>0.0405</td>\n",
       "      <td>2009-10-13</td>\n",
       "      <td>1944.0</td>\n",
       "      <td>4743</td>\n",
       "      <td>101912110</td>\n",
       "      <td>Elementary</td>\n",
       "      <td>75</td>\n",
       "      <td>1</td>\n",
       "      <td>6</td>\n",
       "      <td>BALDWIN SQ/TUAM SQ/MCGREGOR</td>\n",
       "    </tr>\n",
       "    <tr>\n",
       "      <th>1</th>\n",
       "      <td>3</td>\n",
       "      <td>21750000018</td>\n",
       "      <td>296400.0</td>\n",
       "      <td>0.000000</td>\n",
       "      <td>29.74619</td>\n",
       "      <td>-95.36996</td>\n",
       "      <td>77002</td>\n",
       "      <td>8400.07</td>\n",
       "      <td>0.0348</td>\n",
       "      <td>2018-06-29</td>\n",
       "      <td>1944.0</td>\n",
       "      <td>4743</td>\n",
       "      <td>101912110</td>\n",
       "      <td>Elementary</td>\n",
       "      <td>75</td>\n",
       "      <td>1</td>\n",
       "      <td>6</td>\n",
       "      <td>BALDWIN SQ/TUAM SQ/MCGREGOR</td>\n",
       "    </tr>\n",
       "    <tr>\n",
       "      <th>2</th>\n",
       "      <td>15532</td>\n",
       "      <td>1215300010001</td>\n",
       "      <td>331080.0</td>\n",
       "      <td>0.000000</td>\n",
       "      <td>29.74530</td>\n",
       "      <td>-95.36882</td>\n",
       "      <td>77002</td>\n",
       "      <td>8400.07</td>\n",
       "      <td>0.0413</td>\n",
       "      <td>2017-06-28</td>\n",
       "      <td>1924.0</td>\n",
       "      <td>4743</td>\n",
       "      <td>101912110</td>\n",
       "      <td>Elementary</td>\n",
       "      <td>75</td>\n",
       "      <td>1</td>\n",
       "      <td>6</td>\n",
       "      <td>BALDWIN SQ/TUAM SQ/MCGREGOR</td>\n",
       "    </tr>\n",
       "    <tr>\n",
       "      <th>3</th>\n",
       "      <td>15533</td>\n",
       "      <td>1215300010002</td>\n",
       "      <td>287800.0</td>\n",
       "      <td>-14.717082</td>\n",
       "      <td>29.74525</td>\n",
       "      <td>-95.36874</td>\n",
       "      <td>77002</td>\n",
       "      <td>8400.07</td>\n",
       "      <td>0.0352</td>\n",
       "      <td>2016-05-23</td>\n",
       "      <td>1965.0</td>\n",
       "      <td>4743</td>\n",
       "      <td>101912110</td>\n",
       "      <td>Elementary</td>\n",
       "      <td>75</td>\n",
       "      <td>1</td>\n",
       "      <td>6</td>\n",
       "      <td>BALDWIN SQ/TUAM SQ/MCGREGOR</td>\n",
       "    </tr>\n",
       "    <tr>\n",
       "      <th>4</th>\n",
       "      <td>15534</td>\n",
       "      <td>1215300010003</td>\n",
       "      <td>299000.0</td>\n",
       "      <td>0.000000</td>\n",
       "      <td>29.74520</td>\n",
       "      <td>-95.36862</td>\n",
       "      <td>77002</td>\n",
       "      <td>8400.07</td>\n",
       "      <td>0.0480</td>\n",
       "      <td>2013-09-09</td>\n",
       "      <td>1965.0</td>\n",
       "      <td>4743</td>\n",
       "      <td>101912110</td>\n",
       "      <td>Elementary</td>\n",
       "      <td>75</td>\n",
       "      <td>1</td>\n",
       "      <td>6</td>\n",
       "      <td>BALDWIN SQ/TUAM SQ/MCGREGOR</td>\n",
       "    </tr>\n",
       "    <tr>\n",
       "      <th>...</th>\n",
       "      <td>...</td>\n",
       "      <td>...</td>\n",
       "      <td>...</td>\n",
       "      <td>...</td>\n",
       "      <td>...</td>\n",
       "      <td>...</td>\n",
       "      <td>...</td>\n",
       "      <td>...</td>\n",
       "      <td>...</td>\n",
       "      <td>...</td>\n",
       "      <td>...</td>\n",
       "      <td>...</td>\n",
       "      <td>...</td>\n",
       "      <td>...</td>\n",
       "      <td>...</td>\n",
       "      <td>...</td>\n",
       "      <td>...</td>\n",
       "      <td>...</td>\n",
       "    </tr>\n",
       "    <tr>\n",
       "      <th>57376</th>\n",
       "      <td>13619</td>\n",
       "      <td>923430000047</td>\n",
       "      <td>493347.0</td>\n",
       "      <td>22.143711</td>\n",
       "      <td>29.69054</td>\n",
       "      <td>-95.44452</td>\n",
       "      <td>77025</td>\n",
       "      <td>7447.07</td>\n",
       "      <td>0.3767</td>\n",
       "      <td>2010-12-02</td>\n",
       "      <td>2636.0</td>\n",
       "      <td>2216</td>\n",
       "      <td>101912178</td>\n",
       "      <td>Elementary</td>\n",
       "      <td>95</td>\n",
       "      <td>3</td>\n",
       "      <td>84</td>\n",
       "      <td>AYRSHIRE SEC 6-14</td>\n",
       "    </tr>\n",
       "    <tr>\n",
       "      <th>57377</th>\n",
       "      <td>13620</td>\n",
       "      <td>923430000049</td>\n",
       "      <td>384780.0</td>\n",
       "      <td>24.664267</td>\n",
       "      <td>29.69047</td>\n",
       "      <td>-95.44483</td>\n",
       "      <td>77025</td>\n",
       "      <td>7447.07</td>\n",
       "      <td>0.2470</td>\n",
       "      <td>2017-05-25</td>\n",
       "      <td>2542.0</td>\n",
       "      <td>2216</td>\n",
       "      <td>101912178</td>\n",
       "      <td>Elementary</td>\n",
       "      <td>95</td>\n",
       "      <td>3</td>\n",
       "      <td>84</td>\n",
       "      <td>AYRSHIRE SEC 6-14</td>\n",
       "    </tr>\n",
       "    <tr>\n",
       "      <th>57378</th>\n",
       "      <td>13621</td>\n",
       "      <td>923430000050</td>\n",
       "      <td>518499.0</td>\n",
       "      <td>61.979813</td>\n",
       "      <td>29.69039</td>\n",
       "      <td>-95.44529</td>\n",
       "      <td>77025</td>\n",
       "      <td>7447.07</td>\n",
       "      <td>0.2551</td>\n",
       "      <td>2018-01-18</td>\n",
       "      <td>2097.0</td>\n",
       "      <td>2216</td>\n",
       "      <td>101912178</td>\n",
       "      <td>Elementary</td>\n",
       "      <td>95</td>\n",
       "      <td>3</td>\n",
       "      <td>84</td>\n",
       "      <td>AYRSHIRE SEC 6-14</td>\n",
       "    </tr>\n",
       "    <tr>\n",
       "      <th>57379</th>\n",
       "      <td>13622</td>\n",
       "      <td>923430000051</td>\n",
       "      <td>332834.0</td>\n",
       "      <td>0.000000</td>\n",
       "      <td>29.69038</td>\n",
       "      <td>-95.44554</td>\n",
       "      <td>77025</td>\n",
       "      <td>7447.07</td>\n",
       "      <td>0.2807</td>\n",
       "      <td>2019-08-19</td>\n",
       "      <td>2975.0</td>\n",
       "      <td>2216</td>\n",
       "      <td>101912178</td>\n",
       "      <td>Elementary</td>\n",
       "      <td>95</td>\n",
       "      <td>3</td>\n",
       "      <td>84</td>\n",
       "      <td>AYRSHIRE SEC 6-14</td>\n",
       "    </tr>\n",
       "    <tr>\n",
       "      <th>57380</th>\n",
       "      <td>13623</td>\n",
       "      <td>923430000054</td>\n",
       "      <td>280000.0</td>\n",
       "      <td>-13.228071</td>\n",
       "      <td>29.69041</td>\n",
       "      <td>-95.44506</td>\n",
       "      <td>77025</td>\n",
       "      <td>7447.07</td>\n",
       "      <td>0.2666</td>\n",
       "      <td>1988-01-02</td>\n",
       "      <td>2217.0</td>\n",
       "      <td>2216</td>\n",
       "      <td>101912178</td>\n",
       "      <td>Elementary</td>\n",
       "      <td>95</td>\n",
       "      <td>3</td>\n",
       "      <td>84</td>\n",
       "      <td>AYRSHIRE SEC 6-14</td>\n",
       "    </tr>\n",
       "  </tbody>\n",
       "</table>\n",
       "<p>44655 rows × 18 columns</p>\n",
       "</div>"
      ],
      "text/plain": [
       "       id_2019        account  total_appraised_value_2019  pct_value_change  \\\n",
       "0            1    21750000003                    299000.0          0.000000   \n",
       "1            3    21750000018                    296400.0          0.000000   \n",
       "2        15532  1215300010001                    331080.0          0.000000   \n",
       "3        15533  1215300010002                    287800.0        -14.717082   \n",
       "4        15534  1215300010003                    299000.0          0.000000   \n",
       "...        ...            ...                         ...               ...   \n",
       "57376    13619   923430000047                    493347.0         22.143711   \n",
       "57377    13620   923430000049                    384780.0         24.664267   \n",
       "57378    13621   923430000050                    518499.0         61.979813   \n",
       "57379    13622   923430000051                    332834.0          0.000000   \n",
       "57380    13623   923430000054                    280000.0        -13.228071   \n",
       "\n",
       "       latitude  longitude  Zip_code  neighborhood_code  acreage  \\\n",
       "0      29.74614  -95.36987     77002            8400.07   0.0405   \n",
       "1      29.74619  -95.36996     77002            8400.07   0.0348   \n",
       "2      29.74530  -95.36882     77002            8400.07   0.0413   \n",
       "3      29.74525  -95.36874     77002            8400.07   0.0352   \n",
       "4      29.74520  -95.36862     77002            8400.07   0.0480   \n",
       "...         ...        ...       ...                ...      ...   \n",
       "57376  29.69054  -95.44452     77025            7447.07   0.3767   \n",
       "57377  29.69047  -95.44483     77025            7447.07   0.2470   \n",
       "57378  29.69039  -95.44529     77025            7447.07   0.2551   \n",
       "57379  29.69038  -95.44554     77025            7447.07   0.2807   \n",
       "57380  29.69041  -95.44506     77025            7447.07   0.2666   \n",
       "\n",
       "      new_owner_date   sq_ft  Offense_Count  school_id school_type  \\\n",
       "0         2009-10-13  1944.0           4743  101912110  Elementary   \n",
       "1         2018-06-29  1944.0           4743  101912110  Elementary   \n",
       "2         2017-06-28  1924.0           4743  101912110  Elementary   \n",
       "3         2016-05-23  1965.0           4743  101912110  Elementary   \n",
       "4         2013-09-09  1965.0           4743  101912110  Elementary   \n",
       "...              ...     ...            ...        ...         ...   \n",
       "57376     2010-12-02  2636.0           2216  101912178  Elementary   \n",
       "57377     2017-05-25  2542.0           2216  101912178  Elementary   \n",
       "57378     2018-01-18  2097.0           2216  101912178  Elementary   \n",
       "57379     2019-08-19  2975.0           2216  101912178  Elementary   \n",
       "57380     1988-01-02  2217.0           2216  101912178  Elementary   \n",
       "\n",
       "       school_rating  flood_risk  sales_neighborhood_2019  \\\n",
       "0                 75           1                        6   \n",
       "1                 75           1                        6   \n",
       "2                 75           1                        6   \n",
       "3                 75           1                        6   \n",
       "4                 75           1                        6   \n",
       "...              ...         ...                      ...   \n",
       "57376             95           3                       84   \n",
       "57377             95           3                       84   \n",
       "57378             95           3                       84   \n",
       "57379             95           3                       84   \n",
       "57380             95           3                       84   \n",
       "\n",
       "                      neighborhood  \n",
       "0      BALDWIN SQ/TUAM SQ/MCGREGOR  \n",
       "1      BALDWIN SQ/TUAM SQ/MCGREGOR  \n",
       "2      BALDWIN SQ/TUAM SQ/MCGREGOR  \n",
       "3      BALDWIN SQ/TUAM SQ/MCGREGOR  \n",
       "4      BALDWIN SQ/TUAM SQ/MCGREGOR  \n",
       "...                            ...  \n",
       "57376            AYRSHIRE SEC 6-14  \n",
       "57377            AYRSHIRE SEC 6-14  \n",
       "57378            AYRSHIRE SEC 6-14  \n",
       "57379            AYRSHIRE SEC 6-14  \n",
       "57380            AYRSHIRE SEC 6-14  \n",
       "\n",
       "[44655 rows x 18 columns]"
      ]
     },
     "execution_count": 3,
     "metadata": {},
     "output_type": "execute_result"
    }
   ],
   "source": [
    "def SQL_Pull(budget):\n",
    "    # Import Dependencies\n",
    "    # Python SQL toolkit and Object Relational Mapper\n",
    "    import sqlalchemy\n",
    "    from sqlalchemy.ext.automap import automap_base\n",
    "    from sqlalchemy.orm import Session\n",
    "    from sqlalchemy import create_engine, func, inspect,join\n",
    "    from key import url\n",
    "    import numpy as np\n",
    "    import pandas as pd\n",
    "    \n",
    "    #Create the engine\n",
    "    engine = create_engine(url)\n",
    "    \n",
    "    # reflect an existing database into a new model\n",
    "    Base = automap_base()\n",
    "    \n",
    "    # reflect the tables\n",
    "    Base.prepare(engine, reflect=True)\n",
    "    \n",
    "    session=Session(engine)\n",
    "    \n",
    "    # Using Pandas for Data Analysis\n",
    "    #  Read the appraisal Table\n",
    "    appraisal=pd.read_sql_table('appraisal',engine)\n",
    "    \n",
    "    \n",
    "    # Calculate % of change of value between 2018 and 2019\n",
    "    appraisal_2018=appraisal.loc[appraisal.tax_year==2018,:]\n",
    "    appraisal_2019=appraisal.loc[appraisal.tax_year==2019,:]\n",
    "    appraisal_df=pd.merge(appraisal_2019,appraisal_2018,on='account', suffixes=('_2019','_2018'))\n",
    "    appraisal_df['pct_value_change']=(appraisal_df['total_appraised_value_2019']-appraisal_df['total_appraised_value_2018'])\\\n",
    "                                  /appraisal_df['total_appraised_value_2018']*100\n",
    "    results_df=appraisal_df[['id_2019','account','total_appraised_value_2019', 'pct_value_change']]\n",
    "    \n",
    "    #Read properties table\n",
    "    properties_df=pd.read_sql_table('properties',engine)\n",
    "    results_df=pd.merge(results_df,properties_df,on=\"account\")\n",
    "    del results_df['address']\n",
    "    \n",
    "    #Read crime table and merge to results\n",
    "    crime_df=pd.read_sql_table('crime',engine)\n",
    "    crime_df=crime_df.rename(columns={'Zip_Code':'Zip_code'})\n",
    "    crime_aggr=crime_df.groupby(['Zip_code']).count()['Offense_Count']\n",
    "    crime_aggr_df=pd.DataFrame(crime_aggr)\n",
    "    results_df=pd.merge(results_df,crime_aggr_df,on=\"Zip_code\")\n",
    "    \n",
    "    #Read property_school table and merge to results\n",
    "    property_school_df=pd.read_sql_table('property_school',engine)\n",
    "    results_df=pd.merge(results_df,property_school_df,on=\"account\")\n",
    "    \n",
    "    #Read school table and merge to results\n",
    "    school_df=pd.read_sql_table('school',engine)\n",
    "    results_df=pd.merge(results_df,school_df,on=['school_id','school_type'])\n",
    "\n",
    "    \n",
    "    #Add flood ranking\n",
    "    #3- High Risk\n",
    "    #2 - Medium Risk\n",
    "    #1- Low Risk\n",
    "    results_df['flood_risk']=np.where(results_df['flood_description']=='AREA OF MINIMAL FLOOD HAZARD',1,3)\n",
    "    results_df.loc[(results_df['flood_description']=='0.2 PCT ANNUAL CHANCE FLOOD HAZARD'),'flood_risk']=2\n",
    "    results_df.loc[(results_df['flood_description']=='FLOODWAY'),'flood_risk']=3\n",
    "    del results_df['flood_description']\n",
    "    del results_df['name']\n",
    "    del results_df['address']\n",
    "    del results_df['city']\n",
    "    del results_df['zip_code']\n",
    "    del results_df['district_id']\n",
    "    del results_df['latitude_y']\n",
    "    del results_df['longitude_y']\n",
    "    results_df=results_df.rename(columns={'latitude_x':'latitude', 'longitude_x':'longitude'})\n",
    "    \n",
    "    \n",
    "    # Count sales in 2019\n",
    "    results_df['sales2019']=np.where(results_df['new_owner_date']>'2018-12-31',1,0)\n",
    "    sales=results_df.groupby('neighborhood_code')['sales2019'].sum()\n",
    "    sales=pd.DataFrame(sales)\n",
    "    sales=sales.rename(columns={'sales2019':'sales_neighborhood_2019'})\n",
    "    results_df=pd.merge(results_df,sales, on=\"neighborhood_code\")\n",
    "    del results_df['sales2019']\n",
    "    \n",
    "    #  Read the neighborhoods Table\n",
    "    neighborhoods_df=pd.read_sql_table('neighborhoods',engine)\n",
    "    results_df=pd.merge(results_df,neighborhoods_df,on='neighborhood_code')\n",
    "    \n",
    "    # Filter by budget on year 2019\n",
    "    results_df=results_df.loc[results_df.total_appraised_value_2019<=budget,:]\n",
    "    results_df.info()\n",
    "    print('computation completed')\n",
    "    return (results_df) \n",
    "\n",
    "#Run function SQL_Pull\n",
    "SQL_Pull(1000000) \n",
    "\n",
    "    \n"
   ]
  },
  {
   "cell_type": "code",
   "execution_count": null,
   "metadata": {},
   "outputs": [],
   "source": []
  }
 ],
 "metadata": {
  "anaconda-cloud": {},
  "kernel_info": {
   "name": "python3"
  },
  "kernelspec": {
   "display_name": "Python [conda env:PythonData] *",
   "language": "python",
   "name": "conda-env-PythonData-py"
  },
  "language_info": {
   "codemirror_mode": {
    "name": "ipython",
    "version": 3
   },
   "file_extension": ".py",
   "mimetype": "text/x-python",
   "name": "python",
   "nbconvert_exporter": "python",
   "pygments_lexer": "ipython3",
   "version": "3.8.2"
  },
  "latex_envs": {
   "LaTeX_envs_menu_present": true,
   "autoclose": false,
   "autocomplete": true,
   "bibliofile": "biblio.bib",
   "cite_by": "apalike",
   "current_citInitial": 1,
   "eqLabelWithNumbers": true,
   "eqNumInitial": 1,
   "hotkeys": {
    "equation": "Ctrl-E",
    "itemize": "Ctrl-I"
   },
   "labels_anchors": false,
   "latex_user_defs": false,
   "report_style_numbering": false,
   "user_envs_cfg": false
  },
  "nteract": {
   "version": "0.12.3"
  }
 },
 "nbformat": 4,
 "nbformat_minor": 2
}
